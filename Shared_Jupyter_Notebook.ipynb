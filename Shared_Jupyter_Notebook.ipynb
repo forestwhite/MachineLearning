{
 "cells": [
  {
   "cell_type": "markdown",
   "metadata": {},
   "source": [
    "<center>\n",
    "    <img src=\"https://cf-courses-data.s3.us.cloud-object-storage.appdomain.cloud/IBMDeveloperSkillsNetwork-DS0105EN-SkillsNetwork/labs/Module2/images/SN_web_lightmode.png\" width=\"300\" alt=\"cognitiveclass.ai logo\">\n",
    "</center>\n"
   ]
  },
  {
   "cell_type": "markdown",
   "metadata": {
    "tags": []
   },
   "source": [
    "#### Add your code below following the instructions given in the course\n"
   ]
  },
  {
   "cell_type": "markdown",
   "metadata": {},
   "source": [
    "# My Jupyter Notebook on IBM Watson Studio"
   ]
  },
  {
   "cell_type": "markdown",
   "metadata": {},
   "source": [
    "## Introduction\n",
    "_I am interested in data science because I've solved the same problems several times in my career, and I finally feel like these problems can be solved with automation. I also see the potential to solve systemic problems with data science._"
   ]
  },
  {
   "cell_type": "markdown",
   "metadata": {},
   "source": [
    "## Some Data Science Languages\n",
    "Here is a list of languages commonly used in data science\n",
    "* python\n",
    "* R\n",
    "* SQL\n",
    "* Scala\n",
    "* C++\n",
    "* Java"
   ]
  },
  {
   "cell_type": "markdown",
   "metadata": {},
   "source": [
    "## Some Data Science Libraries\n",
    "Here is a list of libraries commonly used in data science\n",
    "### Scientific Computing Libraries\n",
    "1.\tPandas\n",
    "2.\tNumpy\n",
    "\n",
    "### Data Visualization Libraries\n",
    "1.\tSeaborn\n",
    "2.\tMatplotlib\n",
    "\n",
    "### Deep Learning Libraries\n",
    "1.\tScikit-learn (regression, classification)\n",
    "2.\tKeras (Deep Learning: neural networks)\n",
    "3.\tTenserFlow (Deep Learning: production and deployment, not experimentation)\n",
    "4.\tPyTorch (Deep Learning: experimentation)\n",
    "\n",
    "### Scala libraries (Data Engineering)\n",
    "1.\tVegas: computation\n",
    "2.\tBig DL: deep learning\n"
   ]
  },
  {
   "cell_type": "markdown",
   "metadata": {},
   "source": [
    "## Some Data Science Tools\n",
    "Here is a table listing some data science tools by type.\n",
    "\n",
    "| types                                                   | tools                                                                                |\n",
    "|--------------------------------------------------------|--------------------------------------------------------------------------------------|\n",
    "| data management                                        | relational databases, NoSQL databases, file-based tools, and elasticsearch          |\n",
    "| open-source data integration  and transformation tools | Apache Airflow, Kubeflow, Apache Kafka, Apache Nifi, Apache SparkSQL,and NodeRED |"
   ]
  },
  {
   "cell_type": "markdown",
   "metadata": {},
   "source": [
    "---\n",
    "Python supports several arithemetic functions. You may  want to try these:\n",
    "\n",
    "- \\+ addition\n",
    "- \\- subtraction\n",
    "- \\* multiplication\n",
    "- \\/ division\n",
    "- \\% modulus\n",
    "\n",
    "These follow the standard algebraic order of operations. For example, the following code evaluates to 18:\n",
    "\n",
    "```\n",
    "5 + 5 + 4 * 2\n",
    "```"
   ]
  },
  {
   "cell_type": "code",
   "execution_count": 2,
   "metadata": {},
   "outputs": [
    {
     "data": {
      "text/plain": [
       "5"
      ]
     },
     "execution_count": 2,
     "metadata": {},
     "output_type": "execute_result"
    }
   ],
   "source": [
    "5 + 5 + 4 * 2"
   ]
  },
  {
   "cell_type": "code",
   "execution_count": 7,
   "metadata": {},
   "outputs": [
    {
     "data": {
      "text/plain": [
       "'6.083333333333333 hours'"
      ]
     },
     "execution_count": 7,
     "metadata": {},
     "output_type": "execute_result"
    }
   ],
   "source": [
    "minutes = 365\n",
    "minperhour = 60\n",
    "str(minutes/minperhour) + ' hours' #calculates hours from number of minutes"
   ]
  },
  {
   "cell_type": "markdown",
   "metadata": {},
   "source": [
    "## Objectives\n",
    "\n",
    "1. demonstrate everything I know\n",
    "2. learn everything I do not\n",
    "3. succeed at an interview\n",
    "4. do data science every day"
   ]
  },
  {
   "cell_type": "markdown",
   "metadata": {},
   "source": [
    "__Forest Kingfisher__\n",
    "\n",
    "Software Engineer"
   ]
  },
  {
   "cell_type": "code",
   "execution_count": null,
   "metadata": {},
   "outputs": [],
   "source": []
  }
 ],
 "metadata": {
  "kernelspec": {
   "display_name": "Python 3 (ipykernel)",
   "language": "python",
   "name": "python3"
  },
  "language_info": {
   "codemirror_mode": {
    "name": "ipython",
    "version": 3
   },
   "file_extension": ".py",
   "mimetype": "text/x-python",
   "name": "python",
   "nbconvert_exporter": "python",
   "pygments_lexer": "ipython3",
   "version": "3.8.12"
  }
 },
 "nbformat": 4,
 "nbformat_minor": 4
}
